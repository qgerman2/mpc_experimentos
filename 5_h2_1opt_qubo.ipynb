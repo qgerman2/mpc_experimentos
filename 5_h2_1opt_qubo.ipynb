{
 "cells": [
  {
   "cell_type": "code",
   "execution_count": 1,
   "id": "92ba32ea-7f04-4a9a-ad87-d6444965d7fe",
   "metadata": {},
   "outputs": [],
   "source": [
    "import numpy as np\n",
    "from qiskit_algorithms.utils import algorithm_globals\n",
    "from qiskit_optimization import QuadraticProgram\n",
    "from qiskit.primitives import Sampler\n",
    "from qiskit_algorithms import QAOA, NumPyMinimumEigensolver\n",
    "from qiskit_optimization.converters import QuadraticProgramToQubo\n",
    "from qiskit_optimization.algorithms import GurobiOptimizer\n",
    "from qiskit_optimization.algorithms import MinimumEigenOptimizer\n",
    "from qiskit_algorithms.optimizers import COBYLA\n",
    "import matplotlib.pyplot as plt"
   ]
  },
  {
   "cell_type": "code",
   "execution_count": 7,
   "id": "cd5c720f-f5eb-4a10-9ded-82b49b7c6dd2",
   "metadata": {},
   "outputs": [],
   "source": [
    "# solo hacer una optimizacion\n",
    "\n",
    "# con escalado\n",
    "# con estado extra FC-FM\n",
    "# sin P_M del csv, porque no sabemos el futuro\n",
    "\n",
    "# parámetros\n",
    "n_BAT = 1\n",
    "Ts = 1  # s\n",
    "C_E = 27000  # kJ\n",
    "r_FC = 4.7E-8\n",
    "V_FC = 100\n",
    "N = 2\n",
    "P_M = 10\n",
    "\n",
    "Tend = N\n",
    "\n",
    "escala = 10000\n",
    "\n",
    "# sistema espacio estado discreto\n",
    "# estado x      estado u\n",
    "# SOC           P_FC\n",
    "# H2\n",
    "# P_M\n",
    "# FC - FM\n",
    "\n",
    "A = np.array([\n",
    "    [1, 0, -n_BAT / C_E * Ts * escala, 0],\n",
    "    [0, 1, 0, 0],\n",
    "    [0, 0, 1, 0],\n",
    "    [0, 0, -1, 0]\n",
    "])\n",
    "\n",
    "B = np.array([\n",
    "    [n_BAT * Ts / C_E * escala],\n",
    "    [-r_FC * Ts / V_FC * escala],\n",
    "    [0],\n",
    "    [1]\n",
    "])\n",
    "\n",
    "n = A.shape[0]  # número de estados\n",
    "m = B.shape[1]  # número de entradas\n",
    "\n",
    "# matrices propagación estado\n",
    "Psi = np.zeros((N * n, n))\n",
    "for i in range(1, N + 1):\n",
    "    Psi[n * (i - 1):n * i, :] = np.linalg.matrix_power(A, i)\n",
    "\n",
    "Upsilon = np.zeros((N * n, m))\n",
    "for i in range(1, N + 1):\n",
    "    for j in range(1, i + 1):\n",
    "        Upsilon[n * (i - 1):n * i, :] += np.linalg.matrix_power(A, j - 1) @ B\n",
    "\n",
    "Theta = np.zeros((N * n, N * m))\n",
    "for i in range(1, N + 1):\n",
    "    for j in range(1, i + 1):\n",
    "        for k in range(1, i - j + 2):\n",
    "            Theta[n * (i - 1):n * i, m * (j - 1):m * j] += np.linalg.matrix_power(A, k - 1) @ B\n",
    "\n",
    "# %% costos\n",
    "q = np.diag([10, 1, 0, 0])\n",
    "r = 0\n",
    "Q = np.kron(np.eye(N), q)\n",
    "R = np.kron(np.eye(N), r)\n",
    "\n",
    "# %% referencia\n",
    "ref = np.array([0.9, 0.9, 0, 0]) * escala\n",
    "T = np.tile(ref, N)\n",
    "\n",
    "# %% constraints\n",
    "# input\n",
    "u_select = np.array([1])\n",
    "u_max = 128\n",
    "u_min = 0\n",
    "F = np.kron(np.tril(np.ones(N)), np.vstack([u_select, -u_select]))\n",
    "f = np.tile(np.array([u_max, u_min]), N)\n",
    "\n",
    "# input rate\n",
    "du_select = np.array([1])\n",
    "du_max = 15 * Ts\n",
    "du_min = 15 * Ts\n",
    "A_du = np.kron(np.eye(N), np.vstack([du_select, -du_select]))\n",
    "b_du = np.tile(np.array([du_max, du_min]), N).reshape(-1, 1)\n",
    "\n",
    "# state\n",
    "x_select = np.array([\n",
    "    [1, 0, 0, 0],\n",
    "    [0, 1, 0, 0]\n",
    "])\n",
    "x_max = np.array([1, 1]) * escala\n",
    "x_min = np.array([0, 0])\n",
    "Gamma = np.kron(np.eye(N), np.vstack([x_select, -x_select]))\n",
    "g = np.tile(np.hstack([x_max, x_min]), N)\n",
    "\n",
    "# %% simular\n",
    "# condición inicial\n",
    "x = np.zeros((n, Tend+1))\n",
    "x[:, 0] = [0.5 * escala, 0.5 * escala, P_M, 0]\n",
    "u = np.zeros((m, Tend+1))\n",
    "du = np.zeros((m, Tend+1))\n",
    "\n",
    "# optimización offline\n",
    "H = Theta.T @ Q @ Theta + R\n",
    "H = (H + H.T) / 2\n",
    "\n",
    "#for k in range(Tend):\n",
    "k = 0\n",
    "\n",
    "# optimización online\n",
    "if k > 0:\n",
    "    epsilon = T - Psi @ x[:, k] - Upsilon @ u[:, k-1]\n",
    "else:\n",
    "    epsilon = T - Psi @ x[:, k]\n",
    "\n",
    "G = 2 * Theta.T @ Q @ epsilon\n",
    "\n",
    "# actualizar constraints\n",
    "A_u = F.copy()\n",
    "A_x = Gamma @ Theta\n",
    "if k > 0:\n",
    "    b_u = -F[:, [0]] @ u[:, [k-1]] + f.reshape(-1, 1)\n",
    "    b_x = -Gamma @ (Psi @ x[:, [k]] + Upsilon @ u[:, [k-1]]) + g.reshape(-1, 1)\n",
    "else:\n",
    "    b_u = f.reshape(-1, 1)\n",
    "    b_x = -Gamma @ (Psi @ x[:, [k]]) + g.reshape(-1, 1)\n",
    "\n",
    "Ac = np.vstack([A_du, A_u, A_x])\n",
    "bc = np.vstack([b_du, b_u, b_x])"
   ]
  },
  {
   "cell_type": "code",
   "execution_count": 8,
   "id": "706b54aa-df3f-482a-80f9-c805f18d6040",
   "metadata": {},
   "outputs": [],
   "source": [
    "# crear problema normal (con enteros)\n",
    "problem = QuadraticProgram(\"qp\");\n",
    "problem.integer_var_list(m*N, -30, 30, \"du\");\n",
    "problem.minimize(linear=-G.astype(int), quadratic=H.astype(int));\n",
    "for i in range(bc.size):\n",
    "    problem.linear_constraint(Ac[i,:].astype(int), '<=', bc[i].astype(int));"
   ]
  },
  {
   "cell_type": "code",
   "execution_count": 9,
   "id": "9e41bbd2-ef0f-4b05-bb75-76da9beadbf6",
   "metadata": {},
   "outputs": [
    {
     "data": {
      "text/plain": [
       "Text(0.5, 1.0, 'SOC y H2')"
      ]
     },
     "execution_count": 9,
     "metadata": {},
     "output_type": "execute_result"
    },
    {
     "data": {
      "image/png": "[encoded data removed]",
      "text/plain": [
       "<Figure size 640x480 with 1 Axes>"
      ]
     },
     "metadata": {},
     "output_type": "display_data"
    }
   ],
   "source": [
    "# resolver con gurobi\n",
    "optimizer = GurobiOptimizer(disp=False)\n",
    "result = optimizer.solve(problem)\n",
    "\n",
    "for k in range(Tend):\n",
    "    du[:,k] = result[k]\n",
    "    if k > 0:\n",
    "        u[:,k] = u[:,k-1] + du[:,k]\n",
    "    else:\n",
    "        u[:,k] = du[:,k]\n",
    "    x[:,k+1] = A@x[:,k]+B@u[:,k]\n",
    "    #x[2,k+1] = P_M[k]\n",
    "\n",
    "plt.figure()\n",
    "plt.plot(x[0:2,:].T)\n",
    "plt.title(\"SOC y H2\")"
   ]
  },
  {
   "cell_type": "code",
   "execution_count": 10,
   "id": "23caad01-bb39-4ab8-aa59-238942377b00",
   "metadata": {},
   "outputs": [
    {
     "data": {
      "text/plain": [
       "<QuadraticProgram: minimize 7201741*c0@int_slack@0^2 + 28806964*c0@int_slack@0..., 167 variables, 0 constraints, 'qp'>"
      ]
     },
     "execution_count": 10,
     "metadata": {},
     "output_type": "execute_result"
    }
   ],
   "source": [
    "# crear problema qubo\n",
    "conv = QuadraticProgramToQubo()\n",
    "qubo = conv.convert(problem)\n",
    "qubo"
   ]
  },
  {
   "cell_type": "code",
   "execution_count": 11,
   "id": "6ff7b81e-132a-475b-8db0-11c5539f2fcd",
   "metadata": {},
   "outputs": [
    {
     "name": "stderr",
     "output_type": "stream",
     "text": [
      "C:\\Users\\asd\\AppData\\Local\\Temp\\ipykernel_16428\\2144992214.py:4: DeprecationWarning: The class ``qiskit.primitives.sampler.Sampler`` is deprecated as of qiskit 1.2. It will be removed no earlier than 3 months after the release date. All implementations of the `BaseSamplerV1` interface have been deprecated in favor of their V2 counterparts. The V2 alternative for the `Sampler` class is `StatevectorSampler`.\n",
      "  qaoa_mes = QAOA(sampler=Sampler(), optimizer=COBYLA())\n"
     ]
    },
    {
     "ename": "ValueError",
     "evalue": "Maximum allowed dimension exceeded",
     "output_type": "error",
     "traceback": [
      "\u001b[31m---------------------------------------------------------------------------\u001b[39m",
      "\u001b[31mValueError\u001b[39m                                Traceback (most recent call last)",
      "\u001b[36mCell\u001b[39m\u001b[36m \u001b[39m\u001b[32mIn[11]\u001b[39m\u001b[32m, line 6\u001b[39m\n\u001b[32m      4\u001b[39m qaoa_mes = QAOA(sampler=Sampler(), optimizer=COBYLA())\n\u001b[32m      5\u001b[39m qaoa = MinimumEigenOptimizer(qaoa_mes)  \u001b[38;5;66;03m# using QAOA\u001b[39;00m\n\u001b[32m----> \u001b[39m\u001b[32m6\u001b[39m qaoa_result = \u001b[43mqaoa\u001b[49m\u001b[43m.\u001b[49m\u001b[43msolve\u001b[49m\u001b[43m(\u001b[49m\u001b[43mqubo\u001b[49m\u001b[43m)\u001b[49m\n\u001b[32m      7\u001b[39m \u001b[38;5;28mprint\u001b[39m(qaoa_result.prettyprint())\n",
      "\u001b[36mFile \u001b[39m\u001b[32m~\\AppData\\Local\\Programs\\Python\\Python313\\Lib\\site-packages\\qiskit_optimization\\algorithms\\minimum_eigen_optimizer.py:205\u001b[39m, in \u001b[36mMinimumEigenOptimizer.solve\u001b[39m\u001b[34m(self, problem)\u001b[39m\n\u001b[32m    202\u001b[39m \u001b[38;5;66;03m# construct operator and offset\u001b[39;00m\n\u001b[32m    203\u001b[39m operator, offset = problem_.to_ising()\n\u001b[32m--> \u001b[39m\u001b[32m205\u001b[39m \u001b[38;5;28;01mreturn\u001b[39;00m \u001b[38;5;28;43mself\u001b[39;49m\u001b[43m.\u001b[49m\u001b[43m_solve_internal\u001b[49m\u001b[43m(\u001b[49m\u001b[43moperator\u001b[49m\u001b[43m,\u001b[49m\u001b[43m \u001b[49m\u001b[43moffset\u001b[49m\u001b[43m,\u001b[49m\u001b[43m \u001b[49m\u001b[43mproblem_\u001b[49m\u001b[43m,\u001b[49m\u001b[43m \u001b[49m\u001b[43mproblem\u001b[49m\u001b[43m)\u001b[49m\n",
      "\u001b[36mFile \u001b[39m\u001b[32m~\\AppData\\Local\\Programs\\Python\\Python313\\Lib\\site-packages\\qiskit_optimization\\algorithms\\minimum_eigen_optimizer.py:218\u001b[39m, in \u001b[36mMinimumEigenOptimizer._solve_internal\u001b[39m\u001b[34m(self, operator, offset, converted_problem, original_problem)\u001b[39m\n\u001b[32m    215\u001b[39m eigen_result: Optional[MinimumEigensolverResult] = \u001b[38;5;28;01mNone\u001b[39;00m\n\u001b[32m    216\u001b[39m \u001b[38;5;28;01mif\u001b[39;00m operator.num_qubits > \u001b[32m0\u001b[39m:\n\u001b[32m    217\u001b[39m     \u001b[38;5;66;03m# approximate ground state of operator using min eigen solver\u001b[39;00m\n\u001b[32m--> \u001b[39m\u001b[32m218\u001b[39m     eigen_result = \u001b[38;5;28;43mself\u001b[39;49m\u001b[43m.\u001b[49m\u001b[43m_min_eigen_solver\u001b[49m\u001b[43m.\u001b[49m\u001b[43mcompute_minimum_eigenvalue\u001b[49m\u001b[43m(\u001b[49m\u001b[43moperator\u001b[49m\u001b[43m)\u001b[49m\n\u001b[32m    219\u001b[39m     \u001b[38;5;66;03m# analyze results\u001b[39;00m\n\u001b[32m    220\u001b[39m     raw_samples = \u001b[38;5;28;01mNone\u001b[39;00m\n",
      "\u001b[36mFile \u001b[39m\u001b[32m~\\AppData\\Local\\Programs\\Python\\Python313\\Lib\\site-packages\\qiskit_algorithms\\minimum_eigensolvers\\sampling_vqe.py:225\u001b[39m, in \u001b[36mSamplingVQE.compute_minimum_eigenvalue\u001b[39m\u001b[34m(self, operator, aux_operators)\u001b[39m\n\u001b[32m    220\u001b[39m \u001b[38;5;28;01melse\u001b[39;00m:\n\u001b[32m    221\u001b[39m     \u001b[38;5;66;03m# we always want to submit as many estimations per job as possible for minimal\u001b[39;00m\n\u001b[32m    222\u001b[39m     \u001b[38;5;66;03m# overhead on the hardware\u001b[39;00m\n\u001b[32m    223\u001b[39m     was_updated = _set_default_batchsize(\u001b[38;5;28mself\u001b[39m.optimizer)\n\u001b[32m--> \u001b[39m\u001b[32m225\u001b[39m     optimizer_result = \u001b[38;5;28;43mself\u001b[39;49m\u001b[43m.\u001b[49m\u001b[43moptimizer\u001b[49m\u001b[43m.\u001b[49m\u001b[43mminimize\u001b[49m\u001b[43m(\u001b[49m\n\u001b[32m    226\u001b[39m \u001b[43m        \u001b[49m\u001b[43mfun\u001b[49m\u001b[43m=\u001b[49m\u001b[43mevaluate_energy\u001b[49m\u001b[43m,\u001b[49m\u001b[43m  \u001b[49m\u001b[38;5;66;43;03m# type: ignore[arg-type]\u001b[39;49;00m\n\u001b[32m    227\u001b[39m \u001b[43m        \u001b[49m\u001b[43mx0\u001b[49m\u001b[43m=\u001b[49m\u001b[43minitial_point\u001b[49m\u001b[43m,\u001b[49m\n\u001b[32m    228\u001b[39m \u001b[43m        \u001b[49m\u001b[43mbounds\u001b[49m\u001b[43m=\u001b[49m\u001b[43mbounds\u001b[49m\u001b[43m,\u001b[49m\n\u001b[32m    229\u001b[39m \u001b[43m    \u001b[49m\u001b[43m)\u001b[49m\n\u001b[32m    231\u001b[39m     \u001b[38;5;66;03m# reset to original value\u001b[39;00m\n\u001b[32m    232\u001b[39m     \u001b[38;5;28;01mif\u001b[39;00m was_updated:\n",
      "\u001b[36mFile \u001b[39m\u001b[32m~\\AppData\\Local\\Programs\\Python\\Python313\\Lib\\site-packages\\qiskit_algorithms\\optimizers\\scipy_optimizer.py:148\u001b[39m, in \u001b[36mSciPyOptimizer.minimize\u001b[39m\u001b[34m(self, fun, x0, jac, bounds)\u001b[39m\n\u001b[32m    145\u001b[39m     swapped_deprecated_args = \u001b[38;5;28;01mTrue\u001b[39;00m\n\u001b[32m    146\u001b[39m     \u001b[38;5;28mself\u001b[39m._options[\u001b[33m\"\u001b[39m\u001b[33mmaxfun\u001b[39m\u001b[33m\"\u001b[39m] = \u001b[38;5;28mself\u001b[39m._options.pop(\u001b[33m\"\u001b[39m\u001b[33mmaxiter\u001b[39m\u001b[33m\"\u001b[39m)\n\u001b[32m--> \u001b[39m\u001b[32m148\u001b[39m raw_result = \u001b[43mminimize\u001b[49m\u001b[43m(\u001b[49m\n\u001b[32m    149\u001b[39m \u001b[43m    \u001b[49m\u001b[43mfun\u001b[49m\u001b[43m=\u001b[49m\u001b[43mfun\u001b[49m\u001b[43m,\u001b[49m\n\u001b[32m    150\u001b[39m \u001b[43m    \u001b[49m\u001b[43mx0\u001b[49m\u001b[43m=\u001b[49m\u001b[43mx0\u001b[49m\u001b[43m,\u001b[49m\n\u001b[32m    151\u001b[39m \u001b[43m    \u001b[49m\u001b[43mmethod\u001b[49m\u001b[43m=\u001b[49m\u001b[38;5;28;43mself\u001b[39;49m\u001b[43m.\u001b[49m\u001b[43m_method\u001b[49m\u001b[43m,\u001b[49m\n\u001b[32m    152\u001b[39m \u001b[43m    \u001b[49m\u001b[43mjac\u001b[49m\u001b[43m=\u001b[49m\u001b[43mjac\u001b[49m\u001b[43m,\u001b[49m\n\u001b[32m    153\u001b[39m \u001b[43m    \u001b[49m\u001b[43mbounds\u001b[49m\u001b[43m=\u001b[49m\u001b[43mbounds\u001b[49m\u001b[43m,\u001b[49m\n\u001b[32m    154\u001b[39m \u001b[43m    \u001b[49m\u001b[43moptions\u001b[49m\u001b[43m=\u001b[49m\u001b[38;5;28;43mself\u001b[39;49m\u001b[43m.\u001b[49m\u001b[43m_options\u001b[49m\u001b[43m,\u001b[49m\n\u001b[32m    155\u001b[39m \u001b[43m    \u001b[49m\u001b[43m*\u001b[49m\u001b[43m*\u001b[49m\u001b[38;5;28;43mself\u001b[39;49m\u001b[43m.\u001b[49m\u001b[43m_kwargs\u001b[49m\u001b[43m,\u001b[49m\n\u001b[32m    156\u001b[39m \u001b[43m\u001b[49m\u001b[43m)\u001b[49m\n\u001b[32m    157\u001b[39m \u001b[38;5;28;01mif\u001b[39;00m swapped_deprecated_args:\n\u001b[32m    158\u001b[39m     \u001b[38;5;28mself\u001b[39m._options[\u001b[33m\"\u001b[39m\u001b[33mmaxiter\u001b[39m\u001b[33m\"\u001b[39m] = \u001b[38;5;28mself\u001b[39m._options.pop(\u001b[33m\"\u001b[39m\u001b[33mmaxfun\u001b[39m\u001b[33m\"\u001b[39m)\n",
      "\u001b[36mFile \u001b[39m\u001b[32m~\\AppData\\Local\\Programs\\Python\\Python313\\Lib\\site-packages\\scipy\\optimize\\_minimize.py:744\u001b[39m, in \u001b[36mminimize\u001b[39m\u001b[34m(fun, x0, args, method, jac, hess, hessp, bounds, constraints, tol, callback, options)\u001b[39m\n\u001b[32m    741\u001b[39m     res = _minimize_tnc(fun, x0, args, jac, bounds, callback=callback,\n\u001b[32m    742\u001b[39m                         **options)\n\u001b[32m    743\u001b[39m \u001b[38;5;28;01melif\u001b[39;00m meth == \u001b[33m'\u001b[39m\u001b[33mcobyla\u001b[39m\u001b[33m'\u001b[39m:\n\u001b[32m--> \u001b[39m\u001b[32m744\u001b[39m     res = \u001b[43m_minimize_cobyla\u001b[49m\u001b[43m(\u001b[49m\u001b[43mfun\u001b[49m\u001b[43m,\u001b[49m\u001b[43m \u001b[49m\u001b[43mx0\u001b[49m\u001b[43m,\u001b[49m\u001b[43m \u001b[49m\u001b[43margs\u001b[49m\u001b[43m,\u001b[49m\u001b[43m \u001b[49m\u001b[43mconstraints\u001b[49m\u001b[43m,\u001b[49m\u001b[43m \u001b[49m\u001b[43mcallback\u001b[49m\u001b[43m=\u001b[49m\u001b[43mcallback\u001b[49m\u001b[43m,\u001b[49m\n\u001b[32m    745\u001b[39m \u001b[43m                           \u001b[49m\u001b[43mbounds\u001b[49m\u001b[43m=\u001b[49m\u001b[43mbounds\u001b[49m\u001b[43m,\u001b[49m\u001b[43m \u001b[49m\u001b[43m*\u001b[49m\u001b[43m*\u001b[49m\u001b[43moptions\u001b[49m\u001b[43m)\u001b[49m\n\u001b[32m    746\u001b[39m \u001b[38;5;28;01melif\u001b[39;00m meth == \u001b[33m'\u001b[39m\u001b[33mcobyqa\u001b[39m\u001b[33m'\u001b[39m:\n\u001b[32m    747\u001b[39m     res = _minimize_cobyqa(fun, x0, args, bounds, constraints, callback,\n\u001b[32m    748\u001b[39m                            **options)\n",
      "\u001b[36mFile \u001b[39m\u001b[32m~\\AppData\\Local\\Programs\\Python\\Python313\\Lib\\site-packages\\scipy\\optimize\\_cobyla_py.py:35\u001b[39m, in \u001b[36msynchronized.<locals>.wrapper\u001b[39m\u001b[34m(*args, **kwargs)\u001b[39m\n\u001b[32m     32\u001b[39m \u001b[38;5;129m@functools\u001b[39m.wraps(func)\n\u001b[32m     33\u001b[39m \u001b[38;5;28;01mdef\u001b[39;00m\u001b[38;5;250m \u001b[39m\u001b[34mwrapper\u001b[39m(*args, **kwargs):\n\u001b[32m     34\u001b[39m     \u001b[38;5;28;01mwith\u001b[39;00m _module_lock:\n\u001b[32m---> \u001b[39m\u001b[32m35\u001b[39m         \u001b[38;5;28;01mreturn\u001b[39;00m \u001b[43mfunc\u001b[49m\u001b[43m(\u001b[49m\u001b[43m*\u001b[49m\u001b[43margs\u001b[49m\u001b[43m,\u001b[49m\u001b[43m \u001b[49m\u001b[43m*\u001b[49m\u001b[43m*\u001b[49m\u001b[43mkwargs\u001b[49m\u001b[43m)\u001b[49m\n",
      "\u001b[36mFile \u001b[39m\u001b[32m~\\AppData\\Local\\Programs\\Python\\Python313\\Lib\\site-packages\\scipy\\optimize\\_cobyla_py.py:278\u001b[39m, in \u001b[36m_minimize_cobyla\u001b[39m\u001b[34m(fun, x0, args, constraints, rhobeg, tol, maxiter, disp, catol, callback, bounds, **unknown_options)\u001b[39m\n\u001b[32m    275\u001b[39m \u001b[38;5;28;01mdef\u001b[39;00m\u001b[38;5;250m \u001b[39m\u001b[34m_jac\u001b[39m(x, *args):\n\u001b[32m    276\u001b[39m     \u001b[38;5;28;01mreturn\u001b[39;00m \u001b[38;5;28;01mNone\u001b[39;00m\n\u001b[32m--> \u001b[39m\u001b[32m278\u001b[39m sf = \u001b[43m_prepare_scalar_function\u001b[49m\u001b[43m(\u001b[49m\u001b[43mfun\u001b[49m\u001b[43m,\u001b[49m\u001b[43m \u001b[49m\u001b[43mx0\u001b[49m\u001b[43m,\u001b[49m\u001b[43m \u001b[49m\u001b[43margs\u001b[49m\u001b[43m=\u001b[49m\u001b[43margs\u001b[49m\u001b[43m,\u001b[49m\u001b[43m \u001b[49m\u001b[43mjac\u001b[49m\u001b[43m=\u001b[49m\u001b[43m_jac\u001b[49m\u001b[43m)\u001b[49m\n\u001b[32m    280\u001b[39m \u001b[38;5;28;01mdef\u001b[39;00m\u001b[38;5;250m \u001b[39m\u001b[34mcalcfc\u001b[39m(x, con):\n\u001b[32m    281\u001b[39m     f = sf.fun(x)\n",
      "\u001b[36mFile \u001b[39m\u001b[32m~\\AppData\\Local\\Programs\\Python\\Python313\\Lib\\site-packages\\scipy\\optimize\\_optimize.py:291\u001b[39m, in \u001b[36m_prepare_scalar_function\u001b[39m\u001b[34m(fun, x0, jac, args, bounds, epsilon, finite_diff_rel_step, hess)\u001b[39m\n\u001b[32m    287\u001b[39m     bounds = (-np.inf, np.inf)\n\u001b[32m    289\u001b[39m \u001b[38;5;66;03m# ScalarFunction caches. Reuse of fun(x) during grad\u001b[39;00m\n\u001b[32m    290\u001b[39m \u001b[38;5;66;03m# calculation reduces overall function evaluations.\u001b[39;00m\n\u001b[32m--> \u001b[39m\u001b[32m291\u001b[39m sf = \u001b[43mScalarFunction\u001b[49m\u001b[43m(\u001b[49m\u001b[43mfun\u001b[49m\u001b[43m,\u001b[49m\u001b[43m \u001b[49m\u001b[43mx0\u001b[49m\u001b[43m,\u001b[49m\u001b[43m \u001b[49m\u001b[43margs\u001b[49m\u001b[43m,\u001b[49m\u001b[43m \u001b[49m\u001b[43mgrad\u001b[49m\u001b[43m,\u001b[49m\u001b[43m \u001b[49m\u001b[43mhess\u001b[49m\u001b[43m,\u001b[49m\n\u001b[32m    292\u001b[39m \u001b[43m                    \u001b[49m\u001b[43mfinite_diff_rel_step\u001b[49m\u001b[43m,\u001b[49m\u001b[43m \u001b[49m\u001b[43mbounds\u001b[49m\u001b[43m,\u001b[49m\u001b[43m \u001b[49m\u001b[43mepsilon\u001b[49m\u001b[43m=\u001b[49m\u001b[43mepsilon\u001b[49m\u001b[43m)\u001b[49m\n\u001b[32m    294\u001b[39m \u001b[38;5;28;01mreturn\u001b[39;00m sf\n",
      "\u001b[36mFile \u001b[39m\u001b[32m~\\AppData\\Local\\Programs\\Python\\Python313\\Lib\\site-packages\\scipy\\optimize\\_differentiable_functions.py:223\u001b[39m, in \u001b[36mScalarFunction.__init__\u001b[39m\u001b[34m(self, fun, x0, args, grad, hess, finite_diff_rel_step, finite_diff_bounds, epsilon)\u001b[39m\n\u001b[32m    220\u001b[39m     finite_diff_options[\u001b[33m\"\u001b[39m\u001b[33mas_linear_operator\u001b[39m\u001b[33m\"\u001b[39m] = \u001b[38;5;28;01mTrue\u001b[39;00m\n\u001b[32m    222\u001b[39m \u001b[38;5;66;03m# Initial function evaluation\u001b[39;00m\n\u001b[32m--> \u001b[39m\u001b[32m223\u001b[39m \u001b[38;5;28;43mself\u001b[39;49m\u001b[43m.\u001b[49m\u001b[43m_update_fun\u001b[49m\u001b[43m(\u001b[49m\u001b[43m)\u001b[49m\n\u001b[32m    225\u001b[39m \u001b[38;5;66;03m# Initial gradient evaluation\u001b[39;00m\n\u001b[32m    226\u001b[39m \u001b[38;5;28mself\u001b[39m._wrapped_grad, \u001b[38;5;28mself\u001b[39m._ngev = _wrapper_grad(\n\u001b[32m    227\u001b[39m     grad,\n\u001b[32m    228\u001b[39m     fun=\u001b[38;5;28mself\u001b[39m._wrapped_fun,\n\u001b[32m    229\u001b[39m     args=args,\n\u001b[32m    230\u001b[39m     finite_diff_options=finite_diff_options\n\u001b[32m    231\u001b[39m )\n",
      "\u001b[36mFile \u001b[39m\u001b[32m~\\AppData\\Local\\Programs\\Python\\Python313\\Lib\\site-packages\\scipy\\optimize\\_differentiable_functions.py:295\u001b[39m, in \u001b[36mScalarFunction._update_fun\u001b[39m\u001b[34m(self)\u001b[39m\n\u001b[32m    293\u001b[39m \u001b[38;5;28;01mdef\u001b[39;00m\u001b[38;5;250m \u001b[39m\u001b[34m_update_fun\u001b[39m(\u001b[38;5;28mself\u001b[39m):\n\u001b[32m    294\u001b[39m     \u001b[38;5;28;01mif\u001b[39;00m \u001b[38;5;129;01mnot\u001b[39;00m \u001b[38;5;28mself\u001b[39m.f_updated:\n\u001b[32m--> \u001b[39m\u001b[32m295\u001b[39m         fx = \u001b[38;5;28;43mself\u001b[39;49m\u001b[43m.\u001b[49m\u001b[43m_wrapped_fun\u001b[49m\u001b[43m(\u001b[49m\u001b[38;5;28;43mself\u001b[39;49m\u001b[43m.\u001b[49m\u001b[43mx\u001b[49m\u001b[43m)\u001b[49m\n\u001b[32m    296\u001b[39m         \u001b[38;5;28;01mif\u001b[39;00m fx < \u001b[38;5;28mself\u001b[39m._lowest_f:\n\u001b[32m    297\u001b[39m             \u001b[38;5;28mself\u001b[39m._lowest_x = \u001b[38;5;28mself\u001b[39m.x\n",
      "\u001b[36mFile \u001b[39m\u001b[32m~\\AppData\\Local\\Programs\\Python\\Python313\\Lib\\site-packages\\scipy\\optimize\\_differentiable_functions.py:21\u001b[39m, in \u001b[36m_wrapper_fun.<locals>.wrapped\u001b[39m\u001b[34m(x)\u001b[39m\n\u001b[32m     17\u001b[39m ncalls[\u001b[32m0\u001b[39m] += \u001b[32m1\u001b[39m\n\u001b[32m     18\u001b[39m \u001b[38;5;66;03m# Send a copy because the user may overwrite it.\u001b[39;00m\n\u001b[32m     19\u001b[39m \u001b[38;5;66;03m# Overwriting results in undefined behaviour because\u001b[39;00m\n\u001b[32m     20\u001b[39m \u001b[38;5;66;03m# fun(self.x) will change self.x, with the two no longer linked.\u001b[39;00m\n\u001b[32m---> \u001b[39m\u001b[32m21\u001b[39m fx = \u001b[43mfun\u001b[49m\u001b[43m(\u001b[49m\u001b[43mnp\u001b[49m\u001b[43m.\u001b[49m\u001b[43mcopy\u001b[49m\u001b[43m(\u001b[49m\u001b[43mx\u001b[49m\u001b[43m)\u001b[49m\u001b[43m,\u001b[49m\u001b[43m \u001b[49m\u001b[43m*\u001b[49m\u001b[43margs\u001b[49m\u001b[43m)\u001b[49m\n\u001b[32m     22\u001b[39m \u001b[38;5;66;03m# Make sure the function returns a true scalar\u001b[39;00m\n\u001b[32m     23\u001b[39m \u001b[38;5;28;01mif\u001b[39;00m \u001b[38;5;129;01mnot\u001b[39;00m np.isscalar(fx):\n",
      "\u001b[36mFile \u001b[39m\u001b[32m~\\AppData\\Local\\Programs\\Python\\Python313\\Lib\\site-packages\\qiskit_algorithms\\minimum_eigensolvers\\sampling_vqe.py:321\u001b[39m, in \u001b[36mSamplingVQE._get_evaluate_energy.<locals>.evaluate_energy\u001b[39m\u001b[34m(parameters)\u001b[39m\n\u001b[32m    316\u001b[39m parameters = np.reshape(parameters, (-\u001b[32m1\u001b[39m, num_parameters)).tolist()\n\u001b[32m    317\u001b[39m batch_size = \u001b[38;5;28mlen\u001b[39m(parameters)\n\u001b[32m    319\u001b[39m estimator_result = \u001b[43mestimator\u001b[49m\u001b[43m.\u001b[49m\u001b[43mrun\u001b[49m\u001b[43m(\u001b[49m\n\u001b[32m    320\u001b[39m \u001b[43m    \u001b[49m\u001b[43mbatch_size\u001b[49m\u001b[43m \u001b[49m\u001b[43m*\u001b[49m\u001b[43m \u001b[49m\u001b[43m[\u001b[49m\u001b[43mansatz\u001b[49m\u001b[43m]\u001b[49m\u001b[43m,\u001b[49m\u001b[43m \u001b[49m\u001b[43mbatch_size\u001b[49m\u001b[43m \u001b[49m\u001b[43m*\u001b[49m\u001b[43m \u001b[49m\u001b[43m[\u001b[49m\u001b[43moperator\u001b[49m\u001b[43m]\u001b[49m\u001b[43m,\u001b[49m\u001b[43m \u001b[49m\u001b[43mparameters\u001b[49m\n\u001b[32m--> \u001b[39m\u001b[32m321\u001b[39m \u001b[43m\u001b[49m\u001b[43m)\u001b[49m\u001b[43m.\u001b[49m\u001b[43mresult\u001b[49m\u001b[43m(\u001b[49m\u001b[43m)\u001b[49m\n\u001b[32m    322\u001b[39m values = estimator_result.values\n\u001b[32m    324\u001b[39m \u001b[38;5;28;01mif\u001b[39;00m \u001b[38;5;28mself\u001b[39m.callback \u001b[38;5;129;01mis\u001b[39;00m \u001b[38;5;129;01mnot\u001b[39;00m \u001b[38;5;28;01mNone\u001b[39;00m:\n",
      "\u001b[36mFile \u001b[39m\u001b[32m~\\AppData\\Local\\Programs\\Python\\Python313\\Lib\\site-packages\\qiskit\\primitives\\primitive_job.py:51\u001b[39m, in \u001b[36mPrimitiveJob.result\u001b[39m\u001b[34m(self)\u001b[39m\n\u001b[32m     49\u001b[39m \u001b[38;5;28;01mdef\u001b[39;00m\u001b[38;5;250m \u001b[39m\u001b[34mresult\u001b[39m(\u001b[38;5;28mself\u001b[39m) -> ResultT:\n\u001b[32m     50\u001b[39m     \u001b[38;5;28mself\u001b[39m._check_submitted()\n\u001b[32m---> \u001b[39m\u001b[32m51\u001b[39m     \u001b[38;5;28;01mreturn\u001b[39;00m \u001b[38;5;28;43mself\u001b[39;49m\u001b[43m.\u001b[49m\u001b[43m_future\u001b[49m\u001b[43m.\u001b[49m\u001b[43mresult\u001b[49m\u001b[43m(\u001b[49m\u001b[43m)\u001b[49m\n",
      "\u001b[36mFile \u001b[39m\u001b[32m~\\AppData\\Local\\Programs\\Python\\Python313\\Lib\\concurrent\\futures\\_base.py:456\u001b[39m, in \u001b[36mFuture.result\u001b[39m\u001b[34m(self, timeout)\u001b[39m\n\u001b[32m    454\u001b[39m     \u001b[38;5;28;01mraise\u001b[39;00m CancelledError()\n\u001b[32m    455\u001b[39m \u001b[38;5;28;01melif\u001b[39;00m \u001b[38;5;28mself\u001b[39m._state == FINISHED:\n\u001b[32m--> \u001b[39m\u001b[32m456\u001b[39m     \u001b[38;5;28;01mreturn\u001b[39;00m \u001b[38;5;28;43mself\u001b[39;49m\u001b[43m.\u001b[49m\u001b[43m__get_result\u001b[49m\u001b[43m(\u001b[49m\u001b[43m)\u001b[49m\n\u001b[32m    457\u001b[39m \u001b[38;5;28;01melse\u001b[39;00m:\n\u001b[32m    458\u001b[39m     \u001b[38;5;28;01mraise\u001b[39;00m \u001b[38;5;167;01mTimeoutError\u001b[39;00m()\n",
      "\u001b[36mFile \u001b[39m\u001b[32m~\\AppData\\Local\\Programs\\Python\\Python313\\Lib\\concurrent\\futures\\_base.py:401\u001b[39m, in \u001b[36mFuture.__get_result\u001b[39m\u001b[34m(self)\u001b[39m\n\u001b[32m    399\u001b[39m \u001b[38;5;28;01mif\u001b[39;00m \u001b[38;5;28mself\u001b[39m._exception:\n\u001b[32m    400\u001b[39m     \u001b[38;5;28;01mtry\u001b[39;00m:\n\u001b[32m--> \u001b[39m\u001b[32m401\u001b[39m         \u001b[38;5;28;01mraise\u001b[39;00m \u001b[38;5;28mself\u001b[39m._exception\n\u001b[32m    402\u001b[39m     \u001b[38;5;28;01mfinally\u001b[39;00m:\n\u001b[32m    403\u001b[39m         \u001b[38;5;66;03m# Break a reference cycle with the exception in self._exception\u001b[39;00m\n\u001b[32m    404\u001b[39m         \u001b[38;5;28mself\u001b[39m = \u001b[38;5;28;01mNone\u001b[39;00m\n",
      "\u001b[36mFile \u001b[39m\u001b[32m~\\AppData\\Local\\Programs\\Python\\Python313\\Lib\\concurrent\\futures\\thread.py:59\u001b[39m, in \u001b[36m_WorkItem.run\u001b[39m\u001b[34m(self)\u001b[39m\n\u001b[32m     56\u001b[39m     \u001b[38;5;28;01mreturn\u001b[39;00m\n\u001b[32m     58\u001b[39m \u001b[38;5;28;01mtry\u001b[39;00m:\n\u001b[32m---> \u001b[39m\u001b[32m59\u001b[39m     result = \u001b[38;5;28;43mself\u001b[39;49m\u001b[43m.\u001b[49m\u001b[43mfn\u001b[49m\u001b[43m(\u001b[49m\u001b[43m*\u001b[49m\u001b[38;5;28;43mself\u001b[39;49m\u001b[43m.\u001b[49m\u001b[43margs\u001b[49m\u001b[43m,\u001b[49m\u001b[43m \u001b[49m\u001b[43m*\u001b[49m\u001b[43m*\u001b[49m\u001b[38;5;28;43mself\u001b[39;49m\u001b[43m.\u001b[49m\u001b[43mkwargs\u001b[49m\u001b[43m)\u001b[49m\n\u001b[32m     60\u001b[39m \u001b[38;5;28;01mexcept\u001b[39;00m \u001b[38;5;167;01mBaseException\u001b[39;00m \u001b[38;5;28;01mas\u001b[39;00m exc:\n\u001b[32m     61\u001b[39m     \u001b[38;5;28mself\u001b[39m.future.set_exception(exc)\n",
      "\u001b[36mFile \u001b[39m\u001b[32m~\\AppData\\Local\\Programs\\Python\\Python313\\Lib\\site-packages\\qiskit_algorithms\\minimum_eigensolvers\\diagonal_estimator.py:122\u001b[39m, in \u001b[36m_DiagonalEstimator._call\u001b[39m\u001b[34m(self, circuits, observables, parameter_values, **run_options)\u001b[39m\n\u001b[32m    110\u001b[39m \u001b[38;5;28;01mdef\u001b[39;00m\u001b[38;5;250m \u001b[39m\u001b[34m_call\u001b[39m(\n\u001b[32m    111\u001b[39m     \u001b[38;5;28mself\u001b[39m,\n\u001b[32m    112\u001b[39m     circuits: Sequence[\u001b[38;5;28mint\u001b[39m],\n\u001b[32m   (...)\u001b[39m\u001b[32m    115\u001b[39m     **run_options,\n\u001b[32m    116\u001b[39m ) -> _DiagonalEstimatorResult:\n\u001b[32m    117\u001b[39m     job = \u001b[38;5;28mself\u001b[39m.sampler.run(\n\u001b[32m    118\u001b[39m         [\u001b[38;5;28mself\u001b[39m._circuits[i] \u001b[38;5;28;01mfor\u001b[39;00m i \u001b[38;5;129;01min\u001b[39;00m circuits],\n\u001b[32m    119\u001b[39m         parameter_values,\n\u001b[32m    120\u001b[39m         **run_options,\n\u001b[32m    121\u001b[39m     )\n\u001b[32m--> \u001b[39m\u001b[32m122\u001b[39m     sampler_result = \u001b[43mjob\u001b[49m\u001b[43m.\u001b[49m\u001b[43mresult\u001b[49m\u001b[43m(\u001b[49m\u001b[43m)\u001b[49m\n\u001b[32m    123\u001b[39m     samples = sampler_result.quasi_dists\n\u001b[32m    125\u001b[39m     \u001b[38;5;66;03m# a list of dictionaries containing: {state: (measurement probability, value)}\u001b[39;00m\n",
      "\u001b[36mFile \u001b[39m\u001b[32m~\\AppData\\Local\\Programs\\Python\\Python313\\Lib\\site-packages\\qiskit\\primitives\\primitive_job.py:51\u001b[39m, in \u001b[36mPrimitiveJob.result\u001b[39m\u001b[34m(self)\u001b[39m\n\u001b[32m     49\u001b[39m \u001b[38;5;28;01mdef\u001b[39;00m\u001b[38;5;250m \u001b[39m\u001b[34mresult\u001b[39m(\u001b[38;5;28mself\u001b[39m) -> ResultT:\n\u001b[32m     50\u001b[39m     \u001b[38;5;28mself\u001b[39m._check_submitted()\n\u001b[32m---> \u001b[39m\u001b[32m51\u001b[39m     \u001b[38;5;28;01mreturn\u001b[39;00m \u001b[38;5;28;43mself\u001b[39;49m\u001b[43m.\u001b[49m\u001b[43m_future\u001b[49m\u001b[43m.\u001b[49m\u001b[43mresult\u001b[49m\u001b[43m(\u001b[49m\u001b[43m)\u001b[49m\n",
      "\u001b[36mFile \u001b[39m\u001b[32m~\\AppData\\Local\\Programs\\Python\\Python313\\Lib\\concurrent\\futures\\_base.py:449\u001b[39m, in \u001b[36mFuture.result\u001b[39m\u001b[34m(self, timeout)\u001b[39m\n\u001b[32m    447\u001b[39m     \u001b[38;5;28;01mraise\u001b[39;00m CancelledError()\n\u001b[32m    448\u001b[39m \u001b[38;5;28;01melif\u001b[39;00m \u001b[38;5;28mself\u001b[39m._state == FINISHED:\n\u001b[32m--> \u001b[39m\u001b[32m449\u001b[39m     \u001b[38;5;28;01mreturn\u001b[39;00m \u001b[38;5;28;43mself\u001b[39;49m\u001b[43m.\u001b[49m\u001b[43m__get_result\u001b[49m\u001b[43m(\u001b[49m\u001b[43m)\u001b[49m\n\u001b[32m    451\u001b[39m \u001b[38;5;28mself\u001b[39m._condition.wait(timeout)\n\u001b[32m    453\u001b[39m \u001b[38;5;28;01mif\u001b[39;00m \u001b[38;5;28mself\u001b[39m._state \u001b[38;5;129;01min\u001b[39;00m [CANCELLED, CANCELLED_AND_NOTIFIED]:\n",
      "\u001b[36mFile \u001b[39m\u001b[32m~\\AppData\\Local\\Programs\\Python\\Python313\\Lib\\concurrent\\futures\\_base.py:401\u001b[39m, in \u001b[36mFuture.__get_result\u001b[39m\u001b[34m(self)\u001b[39m\n\u001b[32m    399\u001b[39m \u001b[38;5;28;01mif\u001b[39;00m \u001b[38;5;28mself\u001b[39m._exception:\n\u001b[32m    400\u001b[39m     \u001b[38;5;28;01mtry\u001b[39;00m:\n\u001b[32m--> \u001b[39m\u001b[32m401\u001b[39m         \u001b[38;5;28;01mraise\u001b[39;00m \u001b[38;5;28mself\u001b[39m._exception\n\u001b[32m    402\u001b[39m     \u001b[38;5;28;01mfinally\u001b[39;00m:\n\u001b[32m    403\u001b[39m         \u001b[38;5;66;03m# Break a reference cycle with the exception in self._exception\u001b[39;00m\n\u001b[32m    404\u001b[39m         \u001b[38;5;28mself\u001b[39m = \u001b[38;5;28;01mNone\u001b[39;00m\n",
      "\u001b[36mFile \u001b[39m\u001b[32m~\\AppData\\Local\\Programs\\Python\\Python313\\Lib\\concurrent\\futures\\thread.py:59\u001b[39m, in \u001b[36m_WorkItem.run\u001b[39m\u001b[34m(self)\u001b[39m\n\u001b[32m     56\u001b[39m     \u001b[38;5;28;01mreturn\u001b[39;00m\n\u001b[32m     58\u001b[39m \u001b[38;5;28;01mtry\u001b[39;00m:\n\u001b[32m---> \u001b[39m\u001b[32m59\u001b[39m     result = \u001b[38;5;28;43mself\u001b[39;49m\u001b[43m.\u001b[49m\u001b[43mfn\u001b[49m\u001b[43m(\u001b[49m\u001b[43m*\u001b[49m\u001b[38;5;28;43mself\u001b[39;49m\u001b[43m.\u001b[49m\u001b[43margs\u001b[49m\u001b[43m,\u001b[49m\u001b[43m \u001b[49m\u001b[43m*\u001b[49m\u001b[43m*\u001b[49m\u001b[38;5;28;43mself\u001b[39;49m\u001b[43m.\u001b[49m\u001b[43mkwargs\u001b[49m\u001b[43m)\u001b[49m\n\u001b[32m     60\u001b[39m \u001b[38;5;28;01mexcept\u001b[39;00m \u001b[38;5;167;01mBaseException\u001b[39;00m \u001b[38;5;28;01mas\u001b[39;00m exc:\n\u001b[32m     61\u001b[39m     \u001b[38;5;28mself\u001b[39m.future.set_exception(exc)\n",
      "\u001b[36mFile \u001b[39m\u001b[32m~\\AppData\\Local\\Programs\\Python\\Python313\\Lib\\site-packages\\qiskit\\primitives\\sampler.py:109\u001b[39m, in \u001b[36mSampler._call\u001b[39m\u001b[34m(self, circuits, parameter_values, **run_options)\u001b[39m\n\u001b[32m    102\u001b[39m     bound_circuits.append(\n\u001b[32m    103\u001b[39m         \u001b[38;5;28mself\u001b[39m._circuits[i]\n\u001b[32m    104\u001b[39m         \u001b[38;5;28;01mif\u001b[39;00m \u001b[38;5;28mlen\u001b[39m(value) == \u001b[32m0\u001b[39m\n\u001b[32m    105\u001b[39m         \u001b[38;5;28;01melse\u001b[39;00m \u001b[38;5;28mself\u001b[39m._circuits[i].assign_parameters(\u001b[38;5;28mdict\u001b[39m(\u001b[38;5;28mzip\u001b[39m(\u001b[38;5;28mself\u001b[39m._parameters[i], value)))\n\u001b[32m    106\u001b[39m     )\n\u001b[32m    107\u001b[39m     qargs_list.append(\u001b[38;5;28mself\u001b[39m._qargs_list[i])\n\u001b[32m    108\u001b[39m probabilities = [\n\u001b[32m--> \u001b[39m\u001b[32m109\u001b[39m     \u001b[43mStatevector\u001b[49m\u001b[43m(\u001b[49m\u001b[43mbound_circuit_to_instruction\u001b[49m\u001b[43m(\u001b[49m\u001b[43mcirc\u001b[49m\u001b[43m)\u001b[49m\u001b[43m)\u001b[49m.probabilities_dict(\n\u001b[32m    110\u001b[39m         qargs=qargs, decimals=\u001b[32m16\u001b[39m\n\u001b[32m    111\u001b[39m     )\n\u001b[32m    112\u001b[39m     \u001b[38;5;28;01mfor\u001b[39;00m circ, qargs \u001b[38;5;129;01min\u001b[39;00m \u001b[38;5;28mzip\u001b[39m(bound_circuits, qargs_list)\n\u001b[32m    113\u001b[39m ]\n\u001b[32m    114\u001b[39m \u001b[38;5;28;01mif\u001b[39;00m shots \u001b[38;5;129;01mis\u001b[39;00m \u001b[38;5;129;01mnot\u001b[39;00m \u001b[38;5;28;01mNone\u001b[39;00m:\n\u001b[32m    115\u001b[39m     \u001b[38;5;28;01mfor\u001b[39;00m i, prob_dict \u001b[38;5;129;01min\u001b[39;00m \u001b[38;5;28menumerate\u001b[39m(probabilities):\n",
      "\u001b[36mFile \u001b[39m\u001b[32m~\\AppData\\Local\\Programs\\Python\\Python313\\Lib\\site-packages\\qiskit\\quantum_info\\states\\statevector.py:101\u001b[39m, in \u001b[36mStatevector.__init__\u001b[39m\u001b[34m(self, data, dims)\u001b[39m\n\u001b[32m     99\u001b[39m     \u001b[38;5;28mself\u001b[39m._data = np.ravel(data.data)\n\u001b[32m    100\u001b[39m \u001b[38;5;28;01melif\u001b[39;00m \u001b[38;5;28misinstance\u001b[39m(data, (QuantumCircuit, Instruction)):\n\u001b[32m--> \u001b[39m\u001b[32m101\u001b[39m     \u001b[38;5;28mself\u001b[39m._data = \u001b[43mStatevector\u001b[49m\u001b[43m.\u001b[49m\u001b[43mfrom_instruction\u001b[49m\u001b[43m(\u001b[49m\u001b[43mdata\u001b[49m\u001b[43m)\u001b[49m.data\n\u001b[32m    102\u001b[39m \u001b[38;5;28;01melse\u001b[39;00m:\n\u001b[32m    103\u001b[39m     \u001b[38;5;28;01mraise\u001b[39;00m QiskitError(\u001b[33m\"\u001b[39m\u001b[33mInvalid input data format for Statevector\u001b[39m\u001b[33m\"\u001b[39m)\n",
      "\u001b[36mFile \u001b[39m\u001b[32m~\\AppData\\Local\\Programs\\Python\\Python313\\Lib\\site-packages\\qiskit\\quantum_info\\states\\statevector.py:773\u001b[39m, in \u001b[36mStatevector.from_instruction\u001b[39m\u001b[34m(cls, instruction)\u001b[39m\n\u001b[32m    771\u001b[39m     instruction = instruction.to_instruction()\n\u001b[32m    772\u001b[39m \u001b[38;5;66;03m# Initialize an the statevector in the all |0> state\u001b[39;00m\n\u001b[32m--> \u001b[39m\u001b[32m773\u001b[39m init = \u001b[43mnp\u001b[49m\u001b[43m.\u001b[49m\u001b[43mzeros\u001b[49m\u001b[43m(\u001b[49m\u001b[32;43m2\u001b[39;49m\u001b[43m*\u001b[49m\u001b[43m*\u001b[49m\u001b[43minstruction\u001b[49m\u001b[43m.\u001b[49m\u001b[43mnum_qubits\u001b[49m\u001b[43m,\u001b[49m\u001b[43m \u001b[49m\u001b[43mdtype\u001b[49m\u001b[43m=\u001b[49m\u001b[38;5;28;43mcomplex\u001b[39;49m\u001b[43m)\u001b[49m\n\u001b[32m    774\u001b[39m init[\u001b[32m0\u001b[39m] = \u001b[32m1.0\u001b[39m\n\u001b[32m    775\u001b[39m vec = Statevector(init, dims=instruction.num_qubits * (\u001b[32m2\u001b[39m,))\n",
      "\u001b[31mValueError\u001b[39m: Maximum allowed dimension exceeded"
     ]
    }
   ],
   "source": [
    "# https://qiskit-community.github.io/qiskit-optimization/tutorials/03_minimum_eigen_optimizer.html#Solving-a-QUBO-with-the-MinimumEigenOptimizer\n",
    "# resolver qubo\n",
    "algorithm_globals.random_seed = 10598\n",
    "qaoa_mes = QAOA(sampler=Sampler(), optimizer=COBYLA())\n",
    "qaoa = MinimumEigenOptimizer(qaoa_mes)  # using QAOA\n",
    "qaoa_result = qaoa.solve(qubo)\n",
    "print(qaoa_result.prettyprint())"
   ]
  },
  {
   "cell_type": "code",
   "execution_count": null,
   "id": "e64e5636-b9d4-4a67-befd-18a66a552f2e",
   "metadata": {},
   "outputs": [],
   "source": []
  }
 ],
 "metadata": {
  "kernelspec": {
   "display_name": "Python 3 (ipykernel)",
   "language": "python",
   "name": "python3"
  },
  "language_info": {
   "codemirror_mode": {
    "name": "ipython",
    "version": 3
   },
   "file_extension": ".py",
   "mimetype": "text/x-python",
   "name": "python",
   "nbconvert_exporter": "python",
   "pygments_lexer": "ipython3",
   "version": "3.13.3"
  }
 },
 "nbformat": 4,
 "nbformat_minor": 5
}
